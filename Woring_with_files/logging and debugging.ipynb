{
 "cells": [
  {
   "cell_type": "code",
   "execution_count": null,
   "id": "6d702231-b6f3-4444-8189-a66e4a6c9074",
   "metadata": {},
   "outputs": [],
   "source": [
    "import logging"
   ]
  },
  {
   "cell_type": "code",
   "execution_count": null,
   "id": "010afd12-9dd3-47c5-8f8a-f00855ba77af",
   "metadata": {},
   "outputs": [],
   "source": [
    "logging.basicConfig(filename= \"test.log\", level= logging.INFO)"
   ]
  },
  {
   "cell_type": "code",
   "execution_count": null,
   "id": "31f6b9bc-e271-416a-b530-6864fba4c2ab",
   "metadata": {},
   "outputs": [],
   "source": [
    "logging.info(\"log.info\")"
   ]
  },
  {
   "cell_type": "code",
   "execution_count": null,
   "id": "3db1a329-8a7c-4877-b96c-d0d3c9c111b0",
   "metadata": {},
   "outputs": [],
   "source": [
    "logging.error(\"log.error\")"
   ]
  },
  {
   "cell_type": "code",
   "execution_count": null,
   "id": "66513c1d-9e41-4b1d-9c6f-75c3cdbdca6d",
   "metadata": {},
   "outputs": [],
   "source": [
    "logging.critical(\"log.critical\")"
   ]
  },
  {
   "cell_type": "code",
   "execution_count": null,
   "id": "c19202d2-f46a-4060-ac30-0b762f696a9f",
   "metadata": {},
   "outputs": [],
   "source": [
    "logging.shutdown()"
   ]
  },
  {
   "cell_type": "code",
   "execution_count": null,
   "id": "1a2d85d3-b45d-4f09-989a-d71d0fc776dd",
   "metadata": {},
   "outputs": [],
   "source": [
    "import logging"
   ]
  },
  {
   "cell_type": "code",
   "execution_count": null,
   "id": "b4c583c2-a51a-4ef7-8802-cae39d2ecec1",
   "metadata": {},
   "outputs": [],
   "source": [
    "#\n",
    "logging.basicConfig(filename= \"test1.log\", level= logging.INFO, format = '%(asctime)s %(message)s')"
   ]
  },
  {
   "cell_type": "code",
   "execution_count": null,
   "id": "4cd43b00-a3f0-44d7-8635-b44af479b392",
   "metadata": {},
   "outputs": [],
   "source": [
    "logging.info(\"this is my info logging\")\n",
    "logging.error(\"this is my error logging\")\n",
    "logging.critical(\"this is my critical logging\")"
   ]
  },
  {
   "cell_type": "code",
   "execution_count": null,
   "id": "35cb8428-3407-4195-8982-e04539d7bea3",
   "metadata": {},
   "outputs": [],
   "source": [
    "logging.shutdown()"
   ]
  },
  {
   "cell_type": "code",
   "execution_count": 20,
   "id": "383a2bf5-1d77-416a-b935-8f662d4f8f53",
   "metadata": {},
   "outputs": [],
   "source": [
    "import logging"
   ]
  },
  {
   "cell_type": "code",
   "execution_count": 21,
   "id": "50691333-8220-4ed2-b50c-4ae4c4497e83",
   "metadata": {},
   "outputs": [],
   "source": [
    "#\n",
    "logging.basicConfig(filename= \"test2.log\", level= logging.DEBUG, format = '%(asctime)s %(levelname)s %(message)s')"
   ]
  },
  {
   "cell_type": "code",
   "execution_count": null,
   "id": "0e78c05a-8ba2-4fac-86e0-bde92cacd595",
   "metadata": {},
   "outputs": [],
   "source": [
    "logging.info(\"this is my info logging\")\n",
    "logging.error(\"this is my error logging\")\n",
    "logging.critical(\"this is my critical logging\")"
   ]
  },
  {
   "cell_type": "code",
   "execution_count": 22,
   "id": "010dfd76-f5d5-4c6c-ae5f-2be0325c1a13",
   "metadata": {},
   "outputs": [],
   "source": [
    "l = [1,2,3,33,[3,66,63],\"sudh\",\"kumar\"]"
   ]
  },
  {
   "cell_type": "code",
   "execution_count": 29,
   "id": "ce09ee41-2cb2-494f-bf78-899c7767ca16",
   "metadata": {},
   "outputs": [],
   "source": [
    "l1_int = []\n",
    "l2_str = []\n",
    "\n",
    "for i in l:\n",
    "    logging.info(\"WE ARE ITERATING THROUGH OUR LIST AND OUR LOCAL VAR IS {}\".format(l ))\n",
    "    if type(i) == list:\n",
    "        logging.info(\"i am inside if statement and i am tryiang to check list type \" + str(i))\n",
    "        for j in i:\n",
    "            logging.info(\"i am another for loop for list inside list element \"+ str(j))\n",
    "            if type(j) == int:\n",
    "                logging.info(\"i am another if statment \")\n",
    "                l1_int.append(j)\n",
    "    elif type(i) == int :\n",
    "        l1_int.append(i)\n",
    "    else:\n",
    "        if type(i) == str :\n",
    "            l2_str.append(i)\n",
    "logging.info(\"my final result for int is {l1} and str is {l2}\".format(l1 = l1_int, l2= l2_str))\n",
    "            "
   ]
  },
  {
   "cell_type": "code",
   "execution_count": 30,
   "id": "b3f7c141-97ba-407f-adc2-4e21ea8cdd5b",
   "metadata": {},
   "outputs": [
    {
     "data": {
      "text/plain": [
       "[1, 2, 3, 33, 3, 66, 63]"
      ]
     },
     "execution_count": 30,
     "metadata": {},
     "output_type": "execute_result"
    }
   ],
   "source": [
    "l1_int"
   ]
  },
  {
   "cell_type": "code",
   "execution_count": 31,
   "id": "85432dec-6200-4355-83e8-aa75c06a9fba",
   "metadata": {},
   "outputs": [
    {
     "data": {
      "text/plain": [
       "['sudh', 'kumar']"
      ]
     },
     "execution_count": 31,
     "metadata": {},
     "output_type": "execute_result"
    }
   ],
   "source": [
    "l2_str"
   ]
  },
  {
   "cell_type": "code",
   "execution_count": null,
   "id": "7447bf9d-b693-43c1-a934-a57c7f67a533",
   "metadata": {},
   "outputs": [],
   "source": []
  }
 ],
 "metadata": {
  "kernelspec": {
   "display_name": "Python 3 (ipykernel)",
   "language": "python",
   "name": "python3"
  },
  "language_info": {
   "codemirror_mode": {
    "name": "ipython",
    "version": 3
   },
   "file_extension": ".py",
   "mimetype": "text/x-python",
   "name": "python",
   "nbconvert_exporter": "python",
   "pygments_lexer": "ipython3",
   "version": "3.10.8"
  }
 },
 "nbformat": 4,
 "nbformat_minor": 5
}
