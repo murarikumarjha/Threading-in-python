{
  "metadata": {
    "language_info": {
      "codemirror_mode": {
        "name": "python",
        "version": 3
      },
      "file_extension": ".py",
      "mimetype": "text/x-python",
      "name": "python",
      "nbconvert_exporter": "python",
      "pygments_lexer": "ipython3",
      "version": "3.8"
    },
    "kernelspec": {
      "name": "python",
      "display_name": "Python (Pyodide)",
      "language": "python"
    }
  },
  "nbformat_minor": 4,
  "nbformat": 4,
  "cells": [
    {
      "cell_type": "code",
      "source": "data = {\n    \"name\" : \"sudha\",\n    \"mail_id\" : \" sudha@gmail.com\",\n    \"phone_number\" : 9283773333,\n    \"subject\" : [\"data science\",\"big data\",\"data analytics\"]\n}",
      "metadata": {
        "trusted": true
      },
      "execution_count": 2,
      "outputs": []
    },
    {
      "cell_type": "code",
      "source": "import json",
      "metadata": {
        "trusted": true
      },
      "execution_count": 3,
      "outputs": []
    },
    {
      "cell_type": "code",
      "source": "with open(\"data.json\",'w') as f:\n    json.dump(data,f)",
      "metadata": {
        "trusted": true
      },
      "execution_count": 4,
      "outputs": []
    },
    {
      "cell_type": "code",
      "source": "with open(\"data.json\",'r') as f:\n    data1 =json.load(f)",
      "metadata": {
        "trusted": true
      },
      "execution_count": 10,
      "outputs": []
    },
    {
      "cell_type": "code",
      "source": "data1",
      "metadata": {
        "trusted": true
      },
      "execution_count": 11,
      "outputs": [
        {
          "execution_count": 11,
          "output_type": "execute_result",
          "data": {
            "text/plain": "{'name': 'sudha',\n 'mail_id': ' sudha@gmail.com',\n 'phone_number': 9283773333,\n 'subject': ['data science', 'big data', 'data analytics']}"
          },
          "metadata": {}
        }
      ]
    },
    {
      "cell_type": "code",
      "source": "data1['subject'][1]",
      "metadata": {
        "trusted": true
      },
      "execution_count": 12,
      "outputs": [
        {
          "execution_count": 12,
          "output_type": "execute_result",
          "data": {
            "text/plain": "'big data'"
          },
          "metadata": {}
        }
      ]
    },
    {
      "cell_type": "code",
      "source": "import csv",
      "metadata": {
        "trusted": true
      },
      "execution_count": 13,
      "outputs": []
    },
    {
      "cell_type": "code",
      "source": "data = [[\"name\",'email_id', 'phone_number'],\n        [\"sudh\",\"sudh@gmail.com\",947483234],\n        ['krish','krish@gmail.com',87737292]\n]",
      "metadata": {
        "trusted": true
      },
      "execution_count": 14,
      "outputs": []
    },
    {
      "cell_type": "code",
      "source": "with open('data.csv','w') as f:\n    writer = csv.writer(f) \n    for i in data:\n        writer.writerow(i)",
      "metadata": {
        "trusted": true
      },
      "execution_count": 16,
      "outputs": []
    },
    {
      "cell_type": "code",
      "source": "with open(\"data.csv\",\"r\") as f:\n    read_data =  csv.reader(f)\n    \n    for i in read_data:\n        print(i)",
      "metadata": {
        "trusted": true
      },
      "execution_count": 18,
      "outputs": [
        {
          "name": "stdout",
          "text": "['name', 'email_id', 'phone_number']\n['sudh', 'sudh@gmail.com', '947483234']\n['krish', 'krish@gmail.com', '87737292']\n",
          "output_type": "stream"
        }
      ]
    },
    {
      "cell_type": "code",
      "source": "with open(\"test.bin\", \"wb\") as f:\n    f.write(b\"\\x01\\x02\\x03\\ienfd\\murai\")",
      "metadata": {
        "trusted": true
      },
      "execution_count": 26,
      "outputs": []
    },
    {
      "cell_type": "code",
      "source": "with open(\"test.bin\",\"r\") as f:\n    print(f.read())",
      "metadata": {
        "trusted": true
      },
      "execution_count": 27,
      "outputs": [
        {
          "name": "stdout",
          "text": "\u0001\u0002\u0003\\ienfd\\murai\n",
          "output_type": "stream"
        }
      ]
    },
    {
      "cell_type": "code",
      "source": "",
      "metadata": {},
      "execution_count": null,
      "outputs": []
    }
  ]
}