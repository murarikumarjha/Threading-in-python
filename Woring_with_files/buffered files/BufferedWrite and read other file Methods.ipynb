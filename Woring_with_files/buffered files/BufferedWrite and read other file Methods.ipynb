{
  "metadata": {
    "language_info": {
      "codemirror_mode": {
        "name": "python",
        "version": 3
      },
      "file_extension": ".py",
      "mimetype": "text/x-python",
      "name": "python",
      "nbconvert_exporter": "python",
      "pygments_lexer": "ipython3",
      "version": "3.8"
    },
    "kernelspec": {
      "name": "python",
      "display_name": "Python (Pyodide)",
      "language": "python"
    }
  },
  "nbformat_minor": 4,
  "nbformat": 4,
  "cells": [
    {
      "cell_type": "code",
      "source": "import io",
      "metadata": {
        "trusted": true
      },
      "execution_count": 3,
      "outputs": []
    },
    {
      "cell_type": "code",
      "source": "with open(\"test_1.txt\",'wb') as f :\n    file = io.BufferedWriter(f)\n    \n    file.write(b\"This free online data science course will teach you about Regression and Clustering Models. You will look into what regression modelling and classification modelling are, look at their similarity, and learn how each of these models can be created in Azure ML, R, and Python. This course will also discuss the metrics for evaluating a classification model's performance. You will also examine unsupervised learning models, and more! This free online data science course will teach you about Regression and Clustering Models. You will look into what regression modelling and classification modelling are, look at their similarity, and learn how each of these models can be created in Azure ML, R, and Python. This course will also discuss the metrics for evaluating a classification model's performance. You will also examine unsupervised learning models, and more!\\n\")\n    file.write(b'this is my first line')\n    file.flush()",
      "metadata": {
        "trusted": true
      },
      "execution_count": 4,
      "outputs": []
    },
    {
      "cell_type": "code",
      "source": "with open(\"test_1.txt\",\"rb\") as f:\n    \n    file = io.BufferedReader(f)\n    print(file.read())\n    ",
      "metadata": {
        "trusted": true
      },
      "execution_count": 6,
      "outputs": [
        {
          "name": "stdout",
          "text": "b\"This free online data science course will teach you about Regression and Clustering Models. You will look into what regression modelling and classification modelling are, look at their similarity, and learn how each of these models can be created in Azure ML, R, and Python. This course will also discuss the metrics for evaluating a classification model's performance. You will also examine unsupervised learning models, and more! This free online data science course will teach you about Regression and Clustering Models. You will look into what regression modelling and classification modelling are, look at their similarity, and learn how each of these models can be created in Azure ML, R, and Python. This course will also discuss the metrics for evaluating a classification model's performance. You will also examine unsupervised learning models, and more!\\nthis is my first line\"\n",
          "output_type": "stream"
        }
      ]
    },
    {
      "cell_type": "code",
      "source": "",
      "metadata": {},
      "execution_count": null,
      "outputs": []
    },
    {
      "cell_type": "code",
      "source": "",
      "metadata": {},
      "execution_count": null,
      "outputs": []
    }
  ]
}