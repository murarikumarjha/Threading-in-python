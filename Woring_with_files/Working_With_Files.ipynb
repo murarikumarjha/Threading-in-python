{
  "metadata": {
    "language_info": {
      "codemirror_mode": {
        "name": "python",
        "version": 3
      },
      "file_extension": ".py",
      "mimetype": "text/x-python",
      "name": "python",
      "nbconvert_exporter": "python",
      "pygments_lexer": "ipython3",
      "version": "3.8"
    },
    "kernelspec": {
      "name": "python",
      "display_name": "Python (Pyodide)",
      "language": "python"
    }
  },
  "nbformat_minor": 4,
  "nbformat": 4,
  "cells": [
    {
      "cell_type": "code",
      "source": "f = open(\"test.txt\",'w')",
      "metadata": {
        "trusted": true
      },
      "execution_count": 1,
      "outputs": []
    },
    {
      "cell_type": "code",
      "source": "pwd",
      "metadata": {
        "trusted": true
      },
      "execution_count": 2,
      "outputs": [
        {
          "execution_count": 2,
          "output_type": "execute_result",
          "data": {
            "text/plain": "'/drive/notebooks'"
          },
          "metadata": {}
        }
      ]
    },
    {
      "cell_type": "code",
      "source": "f.write(\"This is my first file to write\")",
      "metadata": {
        "trusted": true
      },
      "execution_count": 3,
      "outputs": [
        {
          "execution_count": 3,
          "output_type": "execute_result",
          "data": {
            "text/plain": "30"
          },
          "metadata": {}
        }
      ]
    },
    {
      "cell_type": "code",
      "source": "f.close()",
      "metadata": {
        "trusted": true
      },
      "execution_count": 4,
      "outputs": []
    },
    {
      "cell_type": "code",
      "source": "f = open(\"test.txt\",'w')",
      "metadata": {
        "trusted": true
      },
      "execution_count": 13,
      "outputs": []
    },
    {
      "cell_type": "code",
      "source": "f.write('THIS IS MY FILE')",
      "metadata": {
        "trusted": true
      },
      "execution_count": 14,
      "outputs": [
        {
          "execution_count": 14,
          "output_type": "execute_result",
          "data": {
            "text/plain": "15"
          },
          "metadata": {}
        }
      ]
    },
    {
      "cell_type": "code",
      "source": "f.close()",
      "metadata": {
        "trusted": true
      },
      "execution_count": 15,
      "outputs": []
    },
    {
      "cell_type": "code",
      "source": "f = open(\"test.txt\",'a')",
      "metadata": {
        "trusted": true
      },
      "execution_count": 6,
      "outputs": []
    },
    {
      "cell_type": "code",
      "source": "f.write(\" This free online data science course will teach you about Regression and Clustering Models. You will look into what regression modelling and classification modelling are, look at their similarity, and learn how each of these models can be created in Azure ML, R, and Python. This course will also discuss the metrics for evaluating a classification model's performance. You will also examine unsupervised learning models, and more!\")",
      "metadata": {
        "trusted": true
      },
      "execution_count": 7,
      "outputs": [
        {
          "execution_count": 7,
          "output_type": "execute_result",
          "data": {
            "text/plain": "432"
          },
          "metadata": {}
        }
      ]
    },
    {
      "cell_type": "code",
      "source": "f.close()",
      "metadata": {
        "trusted": true
      },
      "execution_count": 8,
      "outputs": []
    },
    {
      "cell_type": "code",
      "source": "data = open(\"test.txt\",'r')",
      "metadata": {
        "trusted": true
      },
      "execution_count": 9,
      "outputs": []
    },
    {
      "cell_type": "code",
      "source": "data.read()",
      "metadata": {
        "trusted": true
      },
      "execution_count": 10,
      "outputs": [
        {
          "execution_count": 10,
          "output_type": "execute_result",
          "data": {
            "text/plain": "\"THIS IS MY FILE This free online data science course will teach you about Regression and Clustering Models. You will look into what regression modelling and classification modelling are, look at their similarity, and learn how each of these models can be created in Azure ML, R, and Python. This course will also discuss the metrics for evaluating a classification model's performance. You will also examine unsupervised learning models, and more! This free online data science course will teach you about Regression and Clustering Models. You will look into what regression modelling and classification modelling are, look at their similarity, and learn how each of these models can be created in Azure ML, R, and Python. This course will also discuss the metrics for evaluating a classification model's performance. You will also examine unsupervised learning models, and more!\""
          },
          "metadata": {}
        }
      ]
    },
    {
      "cell_type": "code",
      "source": "data.readline()",
      "metadata": {
        "trusted": true
      },
      "execution_count": 11,
      "outputs": [
        {
          "execution_count": 11,
          "output_type": "execute_result",
          "data": {
            "text/plain": "''"
          },
          "metadata": {}
        }
      ]
    },
    {
      "cell_type": "code",
      "source": "data.seek(0)",
      "metadata": {
        "trusted": true
      },
      "execution_count": 12,
      "outputs": [
        {
          "execution_count": 12,
          "output_type": "execute_result",
          "data": {
            "text/plain": "0"
          },
          "metadata": {}
        }
      ]
    },
    {
      "cell_type": "code",
      "source": "data.readline()",
      "metadata": {
        "trusted": true
      },
      "execution_count": 13,
      "outputs": [
        {
          "execution_count": 13,
          "output_type": "execute_result",
          "data": {
            "text/plain": "\"THIS IS MY FILE This free online data science course will teach you about Regression and Clustering Models. You will look into what regression modelling and classification modelling are, look at their similarity, and learn how each of these models can be created in Azure ML, R, and Python. This course will also discuss the metrics for evaluating a classification model's performance. You will also examine unsupervised learning models, and more! This free online data science course will teach you about Regression and Clustering Models. You will look into what regression modelling and classification modelling are, look at their similarity, and learn how each of these models can be created in Azure ML, R, and Python. This course will also discuss the metrics for evaluating a classification model's performance. You will also examine unsupervised learning models, and more!\""
          },
          "metadata": {}
        }
      ]
    },
    {
      "cell_type": "code",
      "source": "data.seek(10)",
      "metadata": {
        "trusted": true
      },
      "execution_count": 14,
      "outputs": [
        {
          "execution_count": 14,
          "output_type": "execute_result",
          "data": {
            "text/plain": "10"
          },
          "metadata": {}
        }
      ]
    },
    {
      "cell_type": "code",
      "source": "data.readline()",
      "metadata": {
        "trusted": true
      },
      "execution_count": 15,
      "outputs": [
        {
          "execution_count": 15,
          "output_type": "execute_result",
          "data": {
            "text/plain": "\" FILE This free online data science course will teach you about Regression and Clustering Models. You will look into what regression modelling and classification modelling are, look at their similarity, and learn how each of these models can be created in Azure ML, R, and Python. This course will also discuss the metrics for evaluating a classification model's performance. You will also examine unsupervised learning models, and more! This free online data science course will teach you about Regression and Clustering Models. You will look into what regression modelling and classification modelling are, look at their similarity, and learn how each of these models can be created in Azure ML, R, and Python. This course will also discuss the metrics for evaluating a classification model's performance. You will also examine unsupervised learning models, and more!\""
          },
          "metadata": {}
        }
      ]
    },
    {
      "cell_type": "code",
      "source": "data1 = open('test.txt','r')",
      "metadata": {
        "trusted": true
      },
      "execution_count": 16,
      "outputs": []
    },
    {
      "cell_type": "code",
      "source": "for i in data1:\n    print(i)",
      "metadata": {
        "trusted": true
      },
      "execution_count": 17,
      "outputs": [
        {
          "name": "stdout",
          "text": "THIS IS MY FILE This free online data science course will teach you about Regression and Clustering Models. You will look into what regression modelling and classification modelling are, look at their similarity, and learn how each of these models can be created in Azure ML, R, and Python. This course will also discuss the metrics for evaluating a classification model's performance. You will also examine unsupervised learning models, and more! This free online data science course will teach you about Regression and Clustering Models. You will look into what regression modelling and classification modelling are, look at their similarity, and learn how each of these models can be created in Azure ML, R, and Python. This course will also discuss the metrics for evaluating a classification model's performance. You will also examine unsupervised learning models, and more!\n",
          "output_type": "stream"
        }
      ]
    },
    {
      "cell_type": "code",
      "source": "import os",
      "metadata": {
        "trusted": true
      },
      "execution_count": 18,
      "outputs": []
    },
    {
      "cell_type": "code",
      "source": "os.path.getsize(\"test.txt\")",
      "metadata": {
        "trusted": true
      },
      "execution_count": 19,
      "outputs": [
        {
          "execution_count": 19,
          "output_type": "execute_result",
          "data": {
            "text/plain": "0"
          },
          "metadata": {}
        }
      ]
    },
    {
      "cell_type": "code",
      "source": "os.remove(\"test.txt\")",
      "metadata": {
        "trusted": true
      },
      "execution_count": 20,
      "outputs": []
    },
    {
      "cell_type": "code",
      "source": "os.remove('file1.txt')",
      "metadata": {
        "trusted": true
      },
      "execution_count": 23,
      "outputs": []
    },
    {
      "cell_type": "code",
      "source": "f = open(\"test1.txt\",'w')",
      "metadata": {
        "trusted": true
      },
      "execution_count": 24,
      "outputs": []
    },
    {
      "cell_type": "code",
      "source": "f.write(\"This free online data science course will teach you about Regression and Clustering Models. You will look into what regression modelling and classification modelling are, look at their similarity, and learn how each of these models can be created in Azure ML, R, and Python. This course will also discuss the metrics for evaluating a classification model's performance. You will also examine unsupervised learning models, and more! This free online data science course will teach you about Regression and Clustering Models. You will look into what regression modelling and classification modelling are, look at their similarity, and learn how each of these models can be created in Azure ML, R, and Python. This course will also discuss the metrics for evaluating a classification model's performance. You will also examine unsupervised learning models, and more!\")",
      "metadata": {
        "trusted": true
      },
      "execution_count": 25,
      "outputs": [
        {
          "execution_count": 25,
          "output_type": "execute_result",
          "data": {
            "text/plain": "863"
          },
          "metadata": {}
        }
      ]
    },
    {
      "cell_type": "code",
      "source": "f.close()",
      "metadata": {
        "trusted": true
      },
      "execution_count": 27,
      "outputs": []
    },
    {
      "cell_type": "code",
      "source": "os.rename(\"test1.txt\",\"new.txt\")",
      "metadata": {
        "trusted": true
      },
      "execution_count": 28,
      "outputs": []
    },
    {
      "cell_type": "code",
      "source": "import shutil",
      "metadata": {
        "trusted": true
      },
      "execution_count": 29,
      "outputs": []
    },
    {
      "cell_type": "code",
      "source": "shutil.copy(\"new.txt\",\"copy_new.txt\")",
      "metadata": {
        "trusted": true
      },
      "execution_count": 30,
      "outputs": [
        {
          "execution_count": 30,
          "output_type": "execute_result",
          "data": {
            "text/plain": "'copy_new.txt'"
          },
          "metadata": {}
        }
      ]
    },
    {
      "cell_type": "code",
      "source": "with open(\"new.txt\",'r') as f :\n    print(f.read())",
      "metadata": {
        "trusted": true
      },
      "execution_count": 32,
      "outputs": [
        {
          "name": "stdout",
          "text": "This free online data science course will teach you about Regression and Clustering Models. You will look into what regression modelling and classification modelling are, look at their similarity, and learn how each of these models can be created in Azure ML, R, and Python. This course will also discuss the metrics for evaluating a classification model's performance. You will also examine unsupervised learning models, and more! This free online data science course will teach you about Regression and Clustering Models. You will look into what regression modelling and classification modelling are, look at their similarity, and learn how each of these models can be created in Azure ML, R, and Python. This course will also discuss the metrics for evaluating a classification model's performance. You will also examine unsupervised learning models, and more!\n",
          "output_type": "stream"
        }
      ]
    },
    {
      "cell_type": "code",
      "source": "",
      "metadata": {},
      "execution_count": null,
      "outputs": []
    }
  ]
}