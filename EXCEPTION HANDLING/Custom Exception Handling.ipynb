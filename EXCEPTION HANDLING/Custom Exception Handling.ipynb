{
 "cells": [
  {
   "cell_type": "code",
   "execution_count": 1,
   "id": "095c5af4-38ac-42d5-85ae-05fbae9b9f0e",
   "metadata": {},
   "outputs": [],
   "source": [
    "class Exception_class(Exception):\n",
    "    def __init__(self, msg):\n",
    "        self.msg = msg"
   ]
  },
  {
   "cell_type": "code",
   "execution_count": 2,
   "id": "6d4a50ff-0652-4c7a-a19d-a934d8f067f0",
   "metadata": {},
   "outputs": [],
   "source": [
    "def fuction_class():\n",
    "    if age <0 :\n",
    "        raise Exception_class(\"THIS AGE IS NEGATIVE\")\n",
    "    elif age <200:\n",
    "        raise Exception_class(\"This age is too high\")\n",
    "    else :\n",
    "        print(\"THIS IS VALID\")"
   ]
  },
  {
   "cell_type": "code",
   "execution_count": 3,
   "id": "6646eff8-9168-4912-b65d-dc430cc13d98",
   "metadata": {},
   "outputs": [
    {
     "ename": "SyntaxError",
     "evalue": "'(' was never closed (1866272477.py, line 2)",
     "output_type": "error",
     "traceback": [
      "\u001b[0;36m  Cell \u001b[0;32mIn[3], line 2\u001b[0;36m\u001b[0m\n\u001b[0;31m    age = int((input(\"Enter  your age : \"))\u001b[0m\n\u001b[0m             ^\u001b[0m\n\u001b[0;31mSyntaxError\u001b[0m\u001b[0;31m:\u001b[0m '(' was never closed\n"
     ]
    }
   ],
   "source": [
    "try :\n",
    "    age = int((input(\"Enter  your age : \"))\n",
    "    fuction_class(age)\n",
    "except Exception_class as e :\n",
    "              print(e)"
   ]
  },
  {
   "cell_type": "code",
   "execution_count": null,
   "id": "4e17e4db-cd6f-4111-9655-521b5c16851b",
   "metadata": {},
   "outputs": [],
   "source": []
  }
 ],
 "metadata": {
  "kernelspec": {
   "display_name": "Python 3 (ipykernel)",
   "language": "python",
   "name": "python3"
  },
  "language_info": {
   "codemirror_mode": {
    "name": "ipython",
    "version": 3
   },
   "file_extension": ".py",
   "mimetype": "text/x-python",
   "name": "python",
   "nbconvert_exporter": "python",
   "pygments_lexer": "ipython3",
   "version": "3.10.8"
  }
 },
 "nbformat": 4,
 "nbformat_minor": 5
}
