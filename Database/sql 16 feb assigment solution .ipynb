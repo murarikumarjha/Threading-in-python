{
 "cells": [
  {
   "cell_type": "markdown",
   "id": "4e2a0587-1fb3-44b8-941b-2c456e441f86",
   "metadata": {},
   "source": [
    "Q1. What is a database? Differentiate between SQL and NoSQL databases.\n",
    "\n",
    "Database defined A database is an organized collection of structured information, or data, typically stored electronically in a computer system. A database is usually controlled by a database management system (DBMS). Together, the data and the DBMS, along with the applications that are associated with them, are referred to as a database system, often shortened to just database. SQL databases define and manipulate data-based structured query language (SQL). Seeing from a side this language is extremely powerful. SQL is one of the most versatile and widely-used options available which makes it a safe choice, especially for great complex queries. But from another side, it can be restrictive. SQL requires you to use predefined schemas to determine the structure of your data before you work with it. Also, all of your data must follow the same structure. This can require significant up-front preparation which means that a change in the structure would be both difficult and disruptive to your whole system.\n",
    "\n",
    "A NoSQL database has a dynamic schema for unstructured data. Data is stored in many ways which means it can be document-oriented, column-oriented, graph-based, or organized as a key-value store. This flexibility means that documents can be created without having a defined structure first. Also, each document can have its own unique structure. The syntax varies from database to database, and you can add fields as you go."
   ]
  },
  {
   "cell_type": "markdown",
   "id": "93f1ebce-8b76-41c7-be6e-c559eb048a13",
   "metadata": {},
   "source": [
    "Q2. What is DDL? Explain why CREATE, DROP, ALTER, and TRUNCATE are used with an example."
   ]
  },
  {
   "cell_type": "markdown",
   "id": "835cb532-9896-4695-940b-f1cab3be57a1",
   "metadata": {},
   "source": [
    "DDL or Data Definition Language actually consists of the SQL commands that can be used to define the database schema. It simply deals with descriptions of the database schema and is used to create and modify the structure of database objects in the database. DDL is a set of SQL commands used to create, modify, and delete database structures but not data. These commands are normally not used by a general user, who should be accessing the database via an application.\n",
    "\n",
    "List of DDL commands: \n",
    "\n",
    "CREATE: This command is used to create the database or its objects (like table, index, function, views, store procedure, and triggers).\n",
    "DROP: This command is used to delete objects from the database.\n",
    "ALTER: This is used to alter the structure of the database.\n",
    "TRUNCATE: This is used to remove all records from a table, including all spaces allocated for the records are removed."
   ]
  },
  {
   "cell_type": "markdown",
   "id": "d3a9929b-1f67-4872-8935-b9047930e8e5",
   "metadata": {},
   "source": [
    "Q3. What is DML? Explain INSERT, UPDATE, and DELETE with an example."
   ]
  },
  {
   "cell_type": "markdown",
   "id": "34452605-c829-4267-a0af-d312a7dc70a8",
   "metadata": {},
   "source": [
    "DML(Data Manipulation Language)\n",
    "The SQL commands that deal with the manipulation of data present in the database belong to DML or Data Manipulation Language and this includes most of the SQL statements. It is the component of the SQL statement that controls access to data and to the database. Basically, DCL statements are grouped with DML statements.\n",
    "\n",
    "List of DML commands: \n",
    "\n",
    "INSERT: It is used to insert data into a table.\n",
    "UPDATE: It is used to update existing data within a table.\n",
    "DELETE: It is used to delete records from a database table."
   ]
  },
  {
   "cell_type": "markdown",
   "id": "1fac96b5-c35c-409b-bc65-5393e349e31e",
   "metadata": {},
   "source": [
    "Q4. What is DQL? Explain SELECT with an example."
   ]
  },
  {
   "cell_type": "markdown",
   "id": "937d1da1-24d9-4700-9287-6f9defe2d369",
   "metadata": {},
   "source": [
    "DQL (Data Query Language) Command in SQL\n",
    "DQL or data query language is to perform the query on the data inside the schema or object (ie table, index, view, function, etc). With the help of a DQL query, we can get the data from the database to perform actions or operations like analyzing the data. \n",
    "\n",
    "SELECT Command in SQL\n",
    "\n",
    "SQL SELECT a query on a table or tables to view the temporary table output from the database.\n",
    "\n",
    "Syntax\n",
    "\n",
    "Select * from Table_Name;\n",
    "\n",
    "Example\n",
    "Select * from Student;"
   ]
  },
  {
   "cell_type": "markdown",
   "id": "04f773a5-4d57-46fc-ae6b-64fff87e9e4e",
   "metadata": {},
   "source": [
    "Q5. Explain Primary Key and Foreign Key."
   ]
  },
  {
   "cell_type": "markdown",
   "id": "9fe7b800-9da8-45ae-913e-ccd77966d37f",
   "metadata": {},
   "source": [
    "A primary key is used to ensure that data in the specific column is unique. A column cannot have NULL values. It is either an existing table column or a column that is specifically generated by the database according to a defined sequence. \n",
    "\n",
    "Example: STUD_NO, as well as STUD_PHONE both, are candidate keys for relation STUDENT but STUD_NO can be chosen as the primary key (only one out of many candidate keys). \n",
    "\n",
    "A foreign key is a column or group of columns in a relational database table that provides a link between data in two tables. It is a column (or columns) that references a column (most often the primary key) of another table. \n",
    "\n",
    "Example: STUD_NO in STUDENT_COURSE is a foreign key to STUD_NO in STUDENT relation. "
   ]
  },
  {
   "cell_type": "markdown",
   "id": "e7de5e74-06f2-4e16-a40e-0db2b29bca3c",
   "metadata": {},
   "source": [
    "Q6. Write a python code to connect MySQL to python. Explain the cursor() and execute() method."
   ]
  },
  {
   "cell_type": "code",
   "execution_count": null,
   "id": "a1fd45fa-ed62-4bd8-a9a9-26be0c8bd740",
   "metadata": {},
   "outputs": [],
   "source": [
    "#!/usr/bin/python\n",
    "import MySQLdb\n",
    "\n",
    "db = MySQLdb.connect(host=\"localhost\",    # your host, usually localhost\n",
    "                     user=\"john\",         # your username\n",
    "                     passwd=\"megajonhy\",  # your password\n",
    "                     db=\"jonhydb\")        # name of the data base\n",
    "\n",
    "# you must create a Cursor object. It will let\n",
    "#  you execute all the queries you need\n",
    "cur = db.cursor()\n",
    "\n",
    "# Use all the SQL you like\n",
    "cur.execute(\"SELECT * FROM YOUR_TABLE_NAME\")\n",
    "\n",
    "# print all the first cell of all the rows\n",
    "for row in cur.fetchall():\n",
    "    print row[0]\n",
    "\n",
    "db.close()"
   ]
  },
  {
   "cell_type": "markdown",
   "id": "99023c90-f75a-47ed-8da8-593571b2a759",
   "metadata": {},
   "source": [
    "Cursor is a Temporary Memory or Temporary Work Station. It is Allocated by Database Server at the Time of Performing DML(Data Manipulation Language) operations on the Table by the User. Cursors are used to store Database Tables. \n",
    "\n",
    "There are 2 types of Cursors: Implicit Cursors, and Explicit Cursors. These are explained as following below.\n",
    "\n",
    "Implicit Cursors: Implicit Cursors are also known as Default Cursors of SQL SERVER. These Cursors are allocated by SQL SERVER when the user performs DML operations.\n",
    "Explicit Cursors: Explicit Cursors are Created by Users whenever the user requires them. Explicit Cursors are used for Fetching data from Table in Row-By-Row Manner.\n",
    "\n",
    "ECUTE command in standard SQL is used to execute stored procedures and query strings in database servers. For the uninitiated, a stored procedure is a SQL code that can be saved and reused later. A stored procedure can be system defined or user-defined. EXECUTE command helps in context switching by allowing for executing commands on different servers and by different users."
   ]
  },
  {
   "cell_type": "markdown",
   "id": "560e3e90-24aa-40ae-92c5-63da56798b1e",
   "metadata": {},
   "source": [
    "Q7. Give the order of execution of SQL clauses in an SQL query."
   ]
  },
  {
   "cell_type": "markdown",
   "id": "8e47cb50-c731-40c8-a34e-c20d686724fa",
   "metadata": {},
   "source": [
    "The order of execution of SQL clauses in an SQL query is as follows 12:\n",
    "\n",
    "FROM clause\n",
    "JOIN clause\n",
    "ON clause\n",
    "OUTER clause\n",
    "WHERE clause\n",
    "GROUP BY clause\n",
    "HAVING clause\n",
    "SELECT clause\n",
    "DISTINCT clause\n",
    "ORDER BY clause\n",
    "TOP clause\n",
    "It is important to understand this order of execution to fine-tune queries for speed and performance."
   ]
  }
 ],
 "metadata": {
  "kernelspec": {
   "display_name": "Python 3 (ipykernel)",
   "language": "python",
   "name": "python3"
  },
  "language_info": {
   "codemirror_mode": {
    "name": "ipython",
    "version": 3
   },
   "file_extension": ".py",
   "mimetype": "text/x-python",
   "name": "python",
   "nbconvert_exporter": "python",
   "pygments_lexer": "ipython3",
   "version": "3.10.8"
  }
 },
 "nbformat": 4,
 "nbformat_minor": 5
}
