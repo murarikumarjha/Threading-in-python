{
 "cells": [
  {
   "cell_type": "code",
   "execution_count": 2,
   "metadata": {},
   "outputs": [],
   "source": [
    "import threading "
   ]
  },
  {
   "cell_type": "code",
   "execution_count": 7,
   "metadata": {},
   "outputs": [],
   "source": [
    "def test(id):\n",
    "    print('program start %d' %id)"
   ]
  },
  {
   "cell_type": "code",
   "execution_count": 8,
   "metadata": {},
   "outputs": [
    {
     "name": "stdout",
     "output_type": "stream",
     "text": [
      "program start 1\n"
     ]
    }
   ],
   "source": [
    "test(1)"
   ]
  },
  {
   "cell_type": "code",
   "execution_count": 9,
   "metadata": {},
   "outputs": [],
   "source": [
    "thread = [threading.Thread(target = test,args=(i,) ) for i in range(10)]"
   ]
  },
  {
   "cell_type": "code",
   "execution_count": 10,
   "metadata": {},
   "outputs": [
    {
     "name": "stdout",
     "output_type": "stream",
     "text": [
      "program start 0\n",
      "program start 1\n",
      "program start 2\n",
      "program start 3\n",
      "program start 4\n",
      "program start 5\n",
      "program start 6\n",
      "program start 7\n",
      "program start 8\n",
      "program start 9\n"
     ]
    }
   ],
   "source": [
    "for t in thread:\n",
    "    t.start()"
   ]
  },
  {
   "cell_type": "code",
   "execution_count": 14,
   "metadata": {},
   "outputs": [
    {
     "data": {
      "text/plain": [
       "[<Thread(Thread-3, stopped 48416)>,\n",
       " <Thread(Thread-4, stopped 47220)>,\n",
       " <Thread(Thread-5, stopped 48308)>,\n",
       " <Thread(Thread-6, stopped 55372)>,\n",
       " <Thread(Thread-7, stopped 55480)>,\n",
       " <Thread(Thread-8, stopped 15396)>,\n",
       " <Thread(Thread-9, stopped 46436)>,\n",
       " <Thread(Thread-10, stopped 54180)>,\n",
       " <Thread(Thread-11, stopped 57568)>,\n",
       " <Thread(Thread-12, stopped 55260)>]"
      ]
     },
     "execution_count": 14,
     "metadata": {},
     "output_type": "execute_result"
    }
   ],
   "source": [
    "thread"
   ]
  },
  {
   "cell_type": "code",
   "execution_count": 16,
   "metadata": {},
   "outputs": [
    {
     "data": {
      "text/plain": [
       "1729703480000"
      ]
     },
     "execution_count": 16,
     "metadata": {},
     "output_type": "execute_result"
    }
   ],
   "source": [
    "id(thread)"
   ]
  },
  {
   "cell_type": "code",
   "execution_count": 17,
   "metadata": {},
   "outputs": [],
   "source": [
    "import threading \n",
    "import urllib.request\n",
    "\n",
    "def file_download(url, filename):\n",
    "    urllib.request.urlretrieve(url,filename)\n",
    "    \n"
   ]
  },
  {
   "cell_type": "code",
   "execution_count": 18,
   "metadata": {},
   "outputs": [],
   "source": [
    "file_download(\"https://raw.githubusercontent.com/murarikumarjha/git_test/main/Baa%2C%20baa%2C%20black%20sheep.txt\",'test.txt')\n"
   ]
  },
  {
   "cell_type": "code",
   "execution_count": 19,
   "metadata": {},
   "outputs": [],
   "source": [
    "url_list = ['https://raw.githubusercontent.com/murarikumarjha/git_test/main/Baa%2C%20baa%2C%20black%20sheep.txt',\"https://raw.githubusercontent.com/murarikumarjha/git_test/main/poem%202\",\"https://raw.githubusercontent.com/murarikumarjha/git_test/main/Humpty%20Dumpty%20sat%20on%20a%20wall..txt\"] "
   ]
  },
  {
   "cell_type": "code",
   "execution_count": 20,
   "metadata": {},
   "outputs": [],
   "source": [
    "file_name =['data1.txt','data2.txt','data3.txt']"
   ]
  },
  {
   "cell_type": "code",
   "execution_count": 25,
   "metadata": {},
   "outputs": [],
   "source": [
    "Ther = [threading.Thread(target = file_download,args=(url_list[i],file_name[i])) for i in range(len(url_list))]"
   ]
  },
  {
   "cell_type": "code",
   "execution_count": 26,
   "metadata": {},
   "outputs": [],
   "source": [
    "for t in Ther:\n",
    "    t.start()"
   ]
  },
  {
   "cell_type": "code",
   "execution_count": 29,
   "metadata": {},
   "outputs": [
    {
     "data": {
      "text/plain": [
       "[<Thread(Thread-13, stopped 23964)>,\n",
       " <Thread(Thread-14, stopped 57904)>,\n",
       " <Thread(Thread-15, stopped 53744)>]"
      ]
     },
     "execution_count": 29,
     "metadata": {},
     "output_type": "execute_result"
    }
   ],
   "source": [
    "Ther"
   ]
  },
  {
   "cell_type": "code",
   "execution_count": 30,
   "metadata": {},
   "outputs": [],
   "source": [
    "import time"
   ]
  },
  {
   "cell_type": "code",
   "execution_count": 69,
   "metadata": {},
   "outputs": [],
   "source": [
    "def test1(id):\n",
    "    for i in range(10):\n",
    "        print(\"test1 %d printing %d %s\"%(id,i,time.ctime()))\n",
    "        time.sleep(1)"
   ]
  },
  {
   "cell_type": "code",
   "execution_count": 70,
   "metadata": {},
   "outputs": [],
   "source": [
    "thread1 = [threading.Thread(target = test1,args=(i,)) for i in range(3)]"
   ]
  },
  {
   "cell_type": "code",
   "execution_count": 71,
   "metadata": {},
   "outputs": [
    {
     "name": "stdout",
     "output_type": "stream",
     "text": [
      "test1 0 printing 0 Thu May 25 14:44:37 2023\n",
      "test1 1 printing 0 Thu May 25 14:44:37 2023\n",
      "test1 2 printing 0 Thu May 25 14:44:37 2023\n"
     ]
    },
    {
     "name": "stdout",
     "output_type": "stream",
     "text": [
      "test1 1 printing 1 Thu May 25 14:44:38 2023test1 2 printing 1 Thu May 25 14:44:38 2023\n",
      "\n",
      "test1 0 printing 1 Thu May 25 14:44:38 2023\n",
      "test1 1 printing 2 Thu May 25 14:44:39 2023test1 0 printing 2 Thu May 25 14:44:39 2023\n",
      "\n",
      "test1 2 printing 2 Thu May 25 14:44:39 2023\n",
      "test1 2 printing 3 Thu May 25 14:44:40 2023test1 0 printing 3 Thu May 25 14:44:40 2023\n",
      "test1 1 printing 3 Thu May 25 14:44:40 2023\n",
      "\n",
      "test1 2 printing 4 Thu May 25 14:44:42 2023test1 1 printing 4 Thu May 25 14:44:42 2023\n",
      "\n",
      "test1 0 printing 4 Thu May 25 14:44:42 2023\n",
      "test1 1 printing 5 Thu May 25 14:44:43 2023test1 2 printing 5 Thu May 25 14:44:43 2023\n",
      "\n",
      "test1 0 printing 5 Thu May 25 14:44:43 2023\n",
      "test1 1 printing 6 Thu May 25 14:44:44 2023test1 2 printing 6 Thu May 25 14:44:44 2023\n",
      "\n",
      "test1 0 printing 6 Thu May 25 14:44:44 2023\n",
      "test1 0 printing 7 Thu May 25 14:44:45 2023test1 1 printing 7 Thu May 25 14:44:45 2023\n",
      "test1 2 printing 7 Thu May 25 14:44:45 2023\n",
      "\n",
      "test1 0 printing 8 Thu May 25 14:44:46 2023test1 2 printing 8 Thu May 25 14:44:46 2023\n",
      "test1 1 printing 8 Thu May 25 14:44:46 2023\n",
      "\n",
      "test1 0 printing 9 Thu May 25 14:44:47 2023test1 1 printing 9 Thu May 25 14:44:47 2023\n",
      "test1 2 printing 9 Thu May 25 14:44:47 2023\n",
      "\n"
     ]
    }
   ],
   "source": [
    "for t in thread1:\n",
    "    t.start()"
   ]
  },
  {
   "cell_type": "code",
   "execution_count": 66,
   "metadata": {},
   "outputs": [],
   "source": [
    "def test2(id):\n",
    "    for i in range(10):\n",
    "        print(\"test1 %d printing %d %s\"%(id,i,time.ctime()))\n",
    "        time.sleep(0)"
   ]
  },
  {
   "cell_type": "code",
   "execution_count": 67,
   "metadata": {},
   "outputs": [],
   "source": [
    "thread1 = [threading.Thread(target = test2,args=(i,)) for i in range(3)]"
   ]
  },
  {
   "cell_type": "code",
   "execution_count": 68,
   "metadata": {},
   "outputs": [
    {
     "name": "stdout",
     "output_type": "stream",
     "text": [
      "test1 0 printing 0 Thu May 25 14:43:32 2023\n",
      "test1 0 printing 1 Thu May 25 14:43:32 2023\n",
      "test1 0 printing 2 Thu May 25 14:43:32 2023\n",
      "test1 1 printing 0 Thu May 25 14:43:32 2023\n",
      "test1 0 printing 3 Thu May 25 14:43:32 2023\n",
      "test1 1 printing 1 Thu May 25 14:43:32 2023\n",
      "test1 0 printing 4 Thu May 25 14:43:32 2023\n",
      "test1 1 printing 2 Thu May 25 14:43:32 2023\n",
      "test1 0 printing 5 Thu May 25 14:43:32 2023\n",
      "test1 1 printing 3 Thu May 25 14:43:32 2023\n",
      "test1 0 printing 6 Thu May 25 14:43:32 2023\n",
      "test1 1 printing 4 Thu May 25 14:43:32 2023\n",
      "test1 0 printing 7 Thu May 25 14:43:32 2023\n",
      "test1 1 printing 5 Thu May 25 14:43:32 2023\n",
      "test1 2 printing 0 Thu May 25 14:43:32 2023\n",
      "test1 0 printing 8 Thu May 25 14:43:32 2023\n",
      "test1 0 printing 9 Thu May 25 14:43:32 2023\n",
      "test1 1 printing 6 Thu May 25 14:43:32 2023\n",
      "test1 2 printing 1 Thu May 25 14:43:32 2023test1 1 printing 7 Thu May 25 14:43:32 2023\n",
      "test1 1 printing 8 Thu May 25 14:43:32 2023\n",
      "test1 1 printing 9 Thu May 25 14:43:32 2023\n",
      "\n",
      "test1 2 printing 2 Thu May 25 14:43:32 2023\n",
      "test1 2 printing 3 Thu May 25 14:43:32 2023\n",
      "test1 2 printing 4 Thu May 25 14:43:32 2023\n",
      "test1 2 printing 5 Thu May 25 14:43:32 2023\n",
      "test1 2 printing 6 Thu May 25 14:43:32 2023\n",
      "test1 2 printing 7 Thu May 25 14:43:32 2023\n",
      "test1 2 printing 8 Thu May 25 14:43:32 2023\n",
      "test1 2 printing 9 Thu May 25 14:43:32 2023\n"
     ]
    }
   ],
   "source": [
    "for t in thread1:\n",
    "    t.start()"
   ]
  },
  {
   "cell_type": "code",
   "execution_count": 82,
   "metadata": {},
   "outputs": [],
   "source": [
    "shared_var = 0\n",
    "lock_var=threading.Lock()"
   ]
  },
  {
   "cell_type": "code",
   "execution_count": 89,
   "metadata": {},
   "outputs": [
    {
     "name": "stdout",
     "output_type": "stream",
     "text": [
      "test3 id is 0 has increased by the shared variable by 1 \n"
     ]
    },
    {
     "name": "stdout",
     "output_type": "stream",
     "text": [
      "test3 id is 1 has increased by the shared variable by 2 \n",
      "test3 id is 2 has increased by the shared variable by 3 \n"
     ]
    }
   ],
   "source": [
    "shared_var = 0\n",
    "lock_var=threading.Lock()\n",
    "def test3(id):\n",
    "    global shared_var\n",
    "    with lock_var:\n",
    "        shared_var = shared_var+1\n",
    "        print(\"test3 id is %d has increased by the shared variable by %d \" %(id,shared_var))\n",
    "        time.sleep(1)\n",
    "thre3 = [threading.Thread(target=test3, args = (i,))for i in range(3)]\n",
    "for t in thre3:\n",
    "    t.start()"
   ]
  },
  {
   "cell_type": "code",
   "execution_count": null,
   "metadata": {},
   "outputs": [],
   "source": []
  }
 ],
 "metadata": {
  "kernelspec": {
   "display_name": "Python 3",
   "language": "python",
   "name": "python3"
  },
  "language_info": {
   "codemirror_mode": {
    "name": "ipython",
    "version": 3
   },
   "file_extension": ".py",
   "mimetype": "text/x-python",
   "name": "python",
   "nbconvert_exporter": "python",
   "pygments_lexer": "ipython3",
   "version": "3.9.13"
  },
  "orig_nbformat": 4
 },
 "nbformat": 4,
 "nbformat_minor": 2
}
